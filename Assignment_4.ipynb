{
 "cells": [
  {
   "cell_type": "markdown",
   "id": "fc6ebcdd",
   "metadata": {},
   "source": [
    "**1. What exactly is ''[ ]''?**"
   ]
  },
  {
   "cell_type": "markdown",
   "id": "024faa46",
   "metadata": {},
   "source": [
    "In Python \"[ ]\" is an empty list. An empty list is a list that contains no elements, and it is represented by square brackets with nothing inside them"
   ]
  },
  {
   "cell_type": "markdown",
   "id": "15707fdf",
   "metadata": {},
   "source": [
    "**2. In a list of values stored in a variable called spam, how would you assign the value 'hello' as the third value? (Assume [2, 4, 6, 8, 10] are in spam.)**"
   ]
  },
  {
   "cell_type": "code",
   "execution_count": 4,
   "id": "d569cb15",
   "metadata": {},
   "outputs": [
    {
     "name": "stdout",
     "output_type": "stream",
     "text": [
      "[2, 4, 6, 8, 'hello']\n"
     ]
    }
   ],
   "source": [
    "spam = [2, 4, 6, 8, 10]\n",
    "spam[4] = 'hello'\n",
    "\n",
    "print(spam)"
   ]
  },
  {
   "cell_type": "markdown",
   "id": "034f7549",
   "metadata": {},
   "source": [
    "**Let's pretend the spam includes the list ['a', 'b', 'c', 'd'] for the next three queries.**"
   ]
  },
  {
   "cell_type": "markdown",
   "id": "fcda17ad",
   "metadata": {},
   "source": [
    "**3. What is the value of spam[int(int('3' * 2) / 11)]?**"
   ]
  },
  {
   "cell_type": "code",
   "execution_count": 5,
   "id": "aaf323ed",
   "metadata": {},
   "outputs": [
    {
     "data": {
      "text/plain": [
       "'d'"
      ]
     },
     "execution_count": 5,
     "metadata": {},
     "output_type": "execute_result"
    }
   ],
   "source": [
    "spam = ['a','b','c','d']\n",
    "spam[int(int('3' * 2) / 11)]"
   ]
  },
  {
   "cell_type": "markdown",
   "id": "19e4e418",
   "metadata": {},
   "source": [
    "The value of spam[int(int('3' * 2) / 11)] is 'd'. This is because '3' * 2 is '33', which when converted to an integer and divided by 11 gives 3. The third index in the list ['a', 'b', 'c', 'd'] is 'd'.\n",
    "\n",
    "The expression '3' * 2 multiplies the string '3' by 2, resulting in the string '33'."
   ]
  },
  {
   "cell_type": "markdown",
   "id": "172ab24c",
   "metadata": {},
   "source": [
    "**4. What is the value of spam[-1]?**"
   ]
  },
  {
   "cell_type": "code",
   "execution_count": 6,
   "id": "4e632f51",
   "metadata": {},
   "outputs": [
    {
     "data": {
      "text/plain": [
       "'d'"
      ]
     },
     "execution_count": 6,
     "metadata": {},
     "output_type": "execute_result"
    }
   ],
   "source": [
    " spam[-1]"
   ]
  },
  {
   "cell_type": "markdown",
   "id": "295722b6",
   "metadata": {},
   "source": [
    "The value of spam[-1] is 'd'. In Python, -1 refers to the last index in a list."
   ]
  },
  {
   "cell_type": "markdown",
   "id": "10886e33",
   "metadata": {},
   "source": [
    "**5. What is the value of spam[:2]?**"
   ]
  },
  {
   "cell_type": "code",
   "execution_count": 7,
   "id": "a7b15535",
   "metadata": {},
   "outputs": [
    {
     "data": {
      "text/plain": [
       "['a', 'b']"
      ]
     },
     "execution_count": 7,
     "metadata": {},
     "output_type": "execute_result"
    }
   ],
   "source": [
    "spam[:2]"
   ]
  },
  {
   "cell_type": "markdown",
   "id": "5a5813d1",
   "metadata": {},
   "source": [
    " The slice [:2] gets the items from the start of the list up to but not including the index 2."
   ]
  },
  {
   "cell_type": "markdown",
   "id": "1d8d6082",
   "metadata": {},
   "source": [
    "**Let's pretend bacon has the list [3.14, 'cat,' 11, 'cat,' True] for the next three questions.**"
   ]
  },
  {
   "cell_type": "markdown",
   "id": "2bd72dab",
   "metadata": {},
   "source": [
    "**6. What is the value of bacon.index('cat')?**"
   ]
  },
  {
   "cell_type": "code",
   "execution_count": 11,
   "id": "ed763cc0",
   "metadata": {},
   "outputs": [
    {
     "data": {
      "text/plain": [
       "1"
      ]
     },
     "execution_count": 11,
     "metadata": {},
     "output_type": "execute_result"
    }
   ],
   "source": [
    "bacon =  [3.14, 'cat', 11, 'cat', True]\n",
    "bacon.index('cat')"
   ]
  },
  {
   "cell_type": "markdown",
   "id": "d734c40d",
   "metadata": {},
   "source": [
    " The index() method returns the first index at which a given element appears in the list."
   ]
  },
  {
   "cell_type": "code",
   "execution_count": 12,
   "id": "909f2849",
   "metadata": {},
   "outputs": [
    {
     "name": "stdout",
     "output_type": "stream",
     "text": [
      "(0, 3.14)\n",
      "(1, 'cat')\n",
      "(2, 11)\n",
      "(3, 'cat')\n",
      "(4, True)\n"
     ]
    }
   ],
   "source": [
    "for i in enumerate(bacon):\n",
    "    print(i)\n"
   ]
  },
  {
   "cell_type": "markdown",
   "id": "dbba83c2",
   "metadata": {},
   "source": [
    "**7. How does bacon.append(99) change the look of the list value in bacon?**"
   ]
  },
  {
   "cell_type": "code",
   "execution_count": 17,
   "id": "6593a41d",
   "metadata": {},
   "outputs": [
    {
     "name": "stdout",
     "output_type": "stream",
     "text": [
      "[3.14, 'cat', 11, 'cat', True, 99, 99, 99, 99]\n"
     ]
    }
   ],
   "source": [
    "bacon.append(99)\n",
    "print(bacon)"
   ]
  },
  {
   "cell_type": "markdown",
   "id": "3e838269",
   "metadata": {},
   "source": [
    "bacon.append(99) adds the integer 99 to the end of the list, making it [3.14, 'cat', 11, 'cat', True, 99]."
   ]
  },
  {
   "cell_type": "markdown",
   "id": "92843fee",
   "metadata": {},
   "source": [
    "**8. How does bacon.remove('cat') change the look of the list in bacon?**"
   ]
  },
  {
   "cell_type": "code",
   "execution_count": 18,
   "id": "8021e873",
   "metadata": {},
   "outputs": [
    {
     "name": "stdout",
     "output_type": "stream",
     "text": [
      "[3.14, 11, 'cat', True, 99, 99, 99, 99]\n"
     ]
    }
   ],
   "source": [
    "bacon.remove('cat')\n",
    "print(bacon)"
   ]
  },
  {
   "cell_type": "markdown",
   "id": "405ed180",
   "metadata": {},
   "source": [
    "bacon.remove('cat') removes the first occurrence of 'cat' from the list, making it [3.14, 11, 'cat', True,99]"
   ]
  },
  {
   "cell_type": "markdown",
   "id": "fb9a3fe2",
   "metadata": {},
   "source": [
    "**9. What are the list concatenation and list replication operators?**"
   ]
  },
  {
   "cell_type": "markdown",
   "id": "1e8514b3",
   "metadata": {},
   "source": [
    "The list concatenation operator is +, and the list replication operator is *. Concatenation combines two lists while replication repeats a list a specified number of times."
   ]
  },
  {
   "cell_type": "code",
   "execution_count": 20,
   "id": "0240d24b",
   "metadata": {},
   "outputs": [
    {
     "name": "stdout",
     "output_type": "stream",
     "text": [
      "[2, 4, 8, 'm', 'q', 7, 3]\n",
      "[2, 4, 8, 'm', 'q', 7, 3, 2, 4, 8, 'm', 'q', 7, 3]\n"
     ]
    }
   ],
   "source": [
    "a = [2,4,8,'m']\n",
    "b = ['q',7,3,]\n",
    "c= a+b\n",
    "print(c)\n",
    "\n",
    "d= (a+b)*2\n",
    "print(d)"
   ]
  },
  {
   "cell_type": "markdown",
   "id": "216ea945",
   "metadata": {},
   "source": [
    "**10. What is difference between the list methods append() and insert()?**"
   ]
  },
  {
   "cell_type": "markdown",
   "id": "b9c10a4f",
   "metadata": {},
   "source": [
    " append() adds an element to the end of the list, while insert() allows you to specify the position where you want the element to be inserted."
   ]
  },
  {
   "cell_type": "code",
   "execution_count": 25,
   "id": "9422e4b2",
   "metadata": {},
   "outputs": [
    {
     "name": "stdout",
     "output_type": "stream",
     "text": [
      "['apple', 'banana', 'orange', 'grapes']\n"
     ]
    }
   ],
   "source": [
    "fruits = ['apple','banana','orange']\n",
    "fruits.append('grapes')\n",
    "print(fruits)\n"
   ]
  },
  {
   "cell_type": "code",
   "execution_count": 24,
   "id": "f2910e4c",
   "metadata": {},
   "outputs": [
    {
     "name": "stdout",
     "output_type": "stream",
     "text": [
      "['apple', 'banana', 'grapes', 'orange']\n"
     ]
    }
   ],
   "source": [
    "fruits = ['apple','banana','orange']\n",
    "fruits.insert(2,'grapes')\n",
    "print(fruits)"
   ]
  },
  {
   "cell_type": "markdown",
   "id": "4a6dd88f",
   "metadata": {},
   "source": [
    "**11. What are the two methods for removing items from a list?**"
   ]
  },
  {
   "cell_type": "markdown",
   "id": "6d0c7f0b",
   "metadata": {},
   "source": [
    "The two methods for removing items from a list are \n",
    "\n",
    "remove(), which removes the first occurrence of a specified value, and\n",
    "\n",
    "pop(), which removes the item at a specified position."
   ]
  },
  {
   "cell_type": "code",
   "execution_count": 26,
   "id": "4680c980",
   "metadata": {},
   "outputs": [
    {
     "name": "stdout",
     "output_type": "stream",
     "text": [
      "[1, 4, 7, 9]\n",
      "[1, 4, 7]\n"
     ]
    }
   ],
   "source": [
    "list1 = [1,9,4,7,9]\n",
    "list1.remove(9)\n",
    "print(list1)\n",
    "\n",
    "list1.pop(-1)\n",
    "print(list1)"
   ]
  },
  {
   "cell_type": "markdown",
   "id": "fcfead64",
   "metadata": {},
   "source": [
    "**12. Describe how list values and string values are identical.**"
   ]
  },
  {
   "cell_type": "markdown",
   "id": "9ceeca8d",
   "metadata": {},
   "source": [
    "While lists and strings are different data types in Python, there are some similarities and ways in which they can be considered similar:\n",
    "\n",
    "Sequential Data: Both lists and strings are sequential data types, meaning they can store multiple values in a specific order. This allows you to access individual elements by their index.\n",
    "\n",
    "Indexing: Both lists and strings support indexing, which means you can access individual elements by their position within the sequence. In Python, indexing starts from 0, so the first element of a list or string has an index of 0.\n",
    "\n",
    "Slicing: Both lists and strings allow you to extract a portion of the sequence using slicing. Slicing allows you to create a new list or string that contains a subset of the original elements.\n",
    "\n",
    "Iteration: You can iterate over both lists and strings using loops or other iterable methods in Python. This allows you to access each element of the sequence one by one.\n",
    "\n",
    "and be used with the in and not in operators."
   ]
  },
  {
   "cell_type": "markdown",
   "id": "99c186b1",
   "metadata": {},
   "source": [
    "**13.What's the difference between tuples and lists?**"
   ]
  },
  {
   "cell_type": "markdown",
   "id": "821d25ae",
   "metadata": {},
   "source": [
    "The difference between tuples and lists is that tuples are immutable (they cannot be changed), while lists are mutable (they can be changed)."
   ]
  },
  {
   "cell_type": "markdown",
   "id": "5e841cf9",
   "metadata": {},
   "source": [
    "**14. How do you type a tuple value that only contains the integer 42?**"
   ]
  },
  {
   "cell_type": "code",
   "execution_count": 29,
   "id": "59cfd85e",
   "metadata": {},
   "outputs": [
    {
     "data": {
      "text/plain": [
       "tuple"
      ]
     },
     "execution_count": 29,
     "metadata": {},
     "output_type": "execute_result"
    }
   ],
   "source": [
    "tuple1 = (42,)\n",
    "\n",
    "type(tuple1)"
   ]
  },
  {
   "cell_type": "markdown",
   "id": "553e2b1b",
   "metadata": {},
   "source": [
    "\n",
    "A tuple value that only contains the integer 42 can be typed as (42,). The trailing comma is necessary to distinguish it as a tuple."
   ]
  },
  {
   "cell_type": "markdown",
   "id": "459d23f5",
   "metadata": {},
   "source": [
    "**15. How do you get a list value's tuple form? How do you get a tuple value's list form?**"
   ]
  },
  {
   "cell_type": "code",
   "execution_count": 39,
   "id": "f58ab9bc",
   "metadata": {},
   "outputs": [
    {
     "name": "stdout",
     "output_type": "stream",
     "text": [
      "[1, 2, 3]\n"
     ]
    }
   ],
   "source": [
    "my_tuple = (1, 2, 3)\n",
    "my_list = list(my_tuple)\n",
    "print(my_list)  "
   ]
  },
  {
   "cell_type": "markdown",
   "id": "94659c0e",
   "metadata": {},
   "source": [
    "By using the tuple() function, we can convert a list to a tuple, and by using the list() function, you can convert a tuple to a list.\n",
    "\n"
   ]
  },
  {
   "cell_type": "code",
   "execution_count": 40,
   "id": "9307d1a7",
   "metadata": {},
   "outputs": [
    {
     "ename": "TypeError",
     "evalue": "'int' object is not callable",
     "output_type": "error",
     "traceback": [
      "\u001b[1;31m---------------------------------------------------------------------------\u001b[0m",
      "\u001b[1;31mTypeError\u001b[0m                                 Traceback (most recent call last)",
      "Cell \u001b[1;32mIn[40], line 2\u001b[0m\n\u001b[0;32m      1\u001b[0m my_list \u001b[38;5;241m=\u001b[39m [\u001b[38;5;241m1\u001b[39m, \u001b[38;5;241m2\u001b[39m, \u001b[38;5;241m3\u001b[39m]\n\u001b[1;32m----> 2\u001b[0m my_tuple \u001b[38;5;241m=\u001b[39m \u001b[38;5;28mtuple\u001b[39m(my_list)\n\u001b[0;32m      3\u001b[0m \u001b[38;5;28mprint\u001b[39m(my_tuple)\n",
      "\u001b[1;31mTypeError\u001b[0m: 'int' object is not callable"
     ]
    }
   ],
   "source": [
    "my_list = [1, 2, 3]\n",
    "my_tuple = tuple(my_list)\n",
    "print(my_tuple)  "
   ]
  },
  {
   "cell_type": "markdown",
   "id": "0b4f7dd1",
   "metadata": {},
   "source": [
    "**16. Variables that \"contain\" list values are not necessarily lists themselves. Instead, what do they contain?**"
   ]
  },
  {
   "cell_type": "markdown",
   "id": "5d96b0b7",
   "metadata": {},
   "source": [
    "Variables that contain list values actually contain references to list values. When you assign a list to a variable, the variable points to the memory location where the list is stored, rather than holding the actual list data."
   ]
  },
  {
   "cell_type": "code",
   "execution_count": 42,
   "id": "4434ed07",
   "metadata": {},
   "outputs": [
    {
     "name": "stdout",
     "output_type": "stream",
     "text": [
      "[1, 2, 3]\n",
      "[1, 2, 3, 999]\n"
     ]
    }
   ],
   "source": [
    "\n",
    "x = [1, 2, 3]\n",
    "y = x\n",
    "print(y)\n",
    "\n",
    "\n",
    "x.append(999)\n",
    "print(y) \n",
    "\n",
    "# Here Variable y is also changed\n"
   ]
  },
  {
   "cell_type": "markdown",
   "id": "4138f287",
   "metadata": {},
   "source": [
    "**17. How do you distinguish between copy.copy() and copy.deepcopy()?**"
   ]
  },
  {
   "cell_type": "markdown",
   "id": "7890fd4d",
   "metadata": {},
   "source": [
    "The copy.copy() and copy.deepcopy() functions are both part of the copy module in Python, but they perform different types of copying operations"
   ]
  },
  {
   "cell_type": "markdown",
   "id": "5cddd572",
   "metadata": {},
   "source": [
    "copy.copy() creates a shallow copy of any iterable object. It means, that the memory location of the original object and the copied object are the same, so anyb changes made in the copied object, also reflects in the original object."
   ]
  },
  {
   "cell_type": "code",
   "execution_count": 50,
   "id": "29ea79de",
   "metadata": {},
   "outputs": [],
   "source": [
    "import copy\n",
    "\n",
    "# Original list with nested objects\n",
    "original_list = [1, [2, 3], 4]\n",
    "\n",
    "# Shallow copy\n",
    "copied_list = copy.copy(original_list)\n",
    "\n",
    "# Modifying the nested list in the copied object\n",
    "copied_list[1][0] = 5"
   ]
  },
  {
   "cell_type": "code",
   "execution_count": 51,
   "id": "aee97419",
   "metadata": {},
   "outputs": [
    {
     "name": "stdout",
     "output_type": "stream",
     "text": [
      "[1, [5, 3], 4]\n",
      "[1, [5, 3], 4]\n"
     ]
    }
   ],
   "source": [
    "print(original_list) \n",
    "print(copied_list) "
   ]
  },
  {
   "cell_type": "markdown",
   "id": "320b407b",
   "metadata": {},
   "source": [
    " Since the memory location is same, the changes made in the copied\n",
    " list reflects in the original list as well."
   ]
  },
  {
   "cell_type": "code",
   "execution_count": 47,
   "id": "d18265af",
   "metadata": {},
   "outputs": [],
   "source": [
    "import copy\n",
    "\n",
    "# Original list with nested objects\n",
    "original_list = [1, [2, 3], 4]\n",
    "\n",
    "# Deep copy\n",
    "copied_list = copy.deepcopy(original_list)\n",
    "\n",
    "# Modifying the nested list in the copied object\n",
    "copied_list[1][0] = 5"
   ]
  },
  {
   "cell_type": "code",
   "execution_count": 48,
   "id": "b2398543",
   "metadata": {},
   "outputs": [
    {
     "name": "stdout",
     "output_type": "stream",
     "text": [
      "[1, [2, 3], 4]\n",
      "[1, [5, 3], 4]\n"
     ]
    }
   ],
   "source": [
    "print(original_list) \n",
    "print(copied_list) "
   ]
  },
  {
   "cell_type": "markdown",
   "id": "cac41aac",
   "metadata": {},
   "source": [
    "Since the memory location of the new object(copied_d_list) is not the same or linked with the original object,\n",
    "any changes made will not reflect in the original object."
   ]
  },
  {
   "cell_type": "code",
   "execution_count": null,
   "id": "96f33cb7",
   "metadata": {},
   "outputs": [],
   "source": []
  }
 ],
 "metadata": {
  "kernelspec": {
   "display_name": "Python 3 (ipykernel)",
   "language": "python",
   "name": "python3"
  },
  "language_info": {
   "codemirror_mode": {
    "name": "ipython",
    "version": 3
   },
   "file_extension": ".py",
   "mimetype": "text/x-python",
   "name": "python",
   "nbconvert_exporter": "python",
   "pygments_lexer": "ipython3",
   "version": "3.11.3"
  }
 },
 "nbformat": 4,
 "nbformat_minor": 5
}
